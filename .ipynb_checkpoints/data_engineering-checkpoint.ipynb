{
 "cells": [
  {
   "cell_type": "code",
   "execution_count": 1,
   "metadata": {},
   "outputs": [],
   "source": [
    "#Dependencies\n",
    "import pandas as pd"
   ]
  },
  {
   "cell_type": "code",
   "execution_count": 14,
   "metadata": {},
   "outputs": [],
   "source": [
    "#importing csv files to panda data frame\n",
    "measurements_df= pd.read_csv(\"Resources\\hawaii_measurements.csv\")\n",
    "stations_df= pd.read_csv(\"Resources\\hawaii_stations.csv\")"
   ]
  },
  {
   "cell_type": "code",
   "execution_count": 19,
   "metadata": {},
   "outputs": [
    {
     "name": "stdout",
     "output_type": "stream",
     "text": [
      "       station        date  prcp  tobs\n",
      "0  USC00519397  2010-01-01  0.08    65\n",
      "1  USC00519397  2010-01-02  0.00    63\n",
      "2  USC00519397  2010-01-03  0.00    74\n",
      "3  USC00519397  2010-01-04  0.00    76\n",
      "4  USC00519397  2010-01-06   NaN    73\n",
      "<class 'pandas.core.frame.DataFrame'>\n",
      "RangeIndex: 19550 entries, 0 to 19549\n",
      "Data columns (total 4 columns):\n",
      "station    19550 non-null object\n",
      "date       19550 non-null object\n",
      "prcp       18103 non-null float64\n",
      "tobs       19550 non-null int64\n",
      "dtypes: float64(1), int64(1), object(2)\n",
      "memory usage: 611.0+ KB\n",
      "None\n",
      "station       0\n",
      "date          0\n",
      "prcp       1447\n",
      "tobs          0\n",
      "dtype: int64\n"
     ]
    }
   ],
   "source": [
    "#checking overall info and inspect missing values of measurements\n",
    "print(measurements_df.head())\n",
    "print(measurements_df.info())\n",
    "print(measurements_df.isnull().sum())"
   ]
  },
  {
   "cell_type": "code",
   "execution_count": 20,
   "metadata": {},
   "outputs": [
    {
     "name": "stdout",
     "output_type": "stream",
     "text": [
      "       station                                    name  latitude  longitude  \\\n",
      "0  USC00519397                    WAIKIKI 717.2, HI US   21.2716  -157.8168   \n",
      "1  USC00513117                    KANEOHE 838.1, HI US   21.4234  -157.8015   \n",
      "2  USC00514830  KUALOA RANCH HEADQUARTERS 886.9, HI US   21.5213  -157.8374   \n",
      "3  USC00517948                       PEARL CITY, HI US   21.3934  -157.9751   \n",
      "4  USC00518838              UPPER WAHIAWA 874.3, HI US   21.4992  -158.0111   \n",
      "\n",
      "   elevation  \n",
      "0        3.0  \n",
      "1       14.6  \n",
      "2        7.0  \n",
      "3       11.9  \n",
      "4      306.6  \n",
      "<class 'pandas.core.frame.DataFrame'>\n",
      "RangeIndex: 9 entries, 0 to 8\n",
      "Data columns (total 5 columns):\n",
      "station      9 non-null object\n",
      "name         9 non-null object\n",
      "latitude     9 non-null float64\n",
      "longitude    9 non-null float64\n",
      "elevation    9 non-null float64\n",
      "dtypes: float64(3), object(2)\n",
      "memory usage: 440.0+ bytes\n",
      "None\n",
      "station      0\n",
      "name         0\n",
      "latitude     0\n",
      "longitude    0\n",
      "elevation    0\n",
      "dtype: int64\n"
     ]
    }
   ],
   "source": [
    "#checking overall info and inspect missing values of stations\n",
    "print(stations_df.head())\n",
    "print(stations_df.info())\n",
    "print(stations_df.isnull().sum())"
   ]
  },
  {
   "cell_type": "markdown",
   "metadata": {},
   "source": [
    "The missing value in the measurement dataframe is 1447 which is less than 10%. Hence droping all the missing value will not have effect on the analysis.where as the stations data has no missing value."
   ]
  },
  {
   "cell_type": "code",
   "execution_count": 33,
   "metadata": {},
   "outputs": [
    {
     "name": "stdout",
     "output_type": "stream",
     "text": [
      "<class 'pandas.core.frame.DataFrame'>\n",
      "RangeIndex: 18103 entries, 0 to 18102\n",
      "Data columns (total 5 columns):\n",
      "index      18103 non-null int64\n",
      "station    18103 non-null object\n",
      "date       18103 non-null object\n",
      "prcp       18103 non-null float64\n",
      "tobs       18103 non-null int64\n",
      "dtypes: float64(1), int64(2), object(2)\n",
      "memory usage: 707.2+ KB\n"
     ]
    }
   ],
   "source": [
    "#Droping missing values\n",
    "clean_hawaii_measurements=measurements_df.dropna(how=\"any\",inplace=False).reset_index()\n",
    "clean_hawaii_measurements.info()"
   ]
  },
  {
   "cell_type": "code",
   "execution_count": 35,
   "metadata": {},
   "outputs": [],
   "source": [
    "#exporting the clean data as csv files\n",
    "clean_hawaii_measurements.to_csv(\"Resources\\clean_hawaii_measurements.csv\")\n",
    "clean_hawaii_measurements.to_csv(\"Resources\\clean_hawii_stations.csv\")"
   ]
  }
 ],
 "metadata": {
  "kernelspec": {
   "display_name": "Python 3",
   "language": "python",
   "name": "python3"
  },
  "language_info": {
   "codemirror_mode": {
    "name": "ipython",
    "version": 3
   },
   "file_extension": ".py",
   "mimetype": "text/x-python",
   "name": "python",
   "nbconvert_exporter": "python",
   "pygments_lexer": "ipython3",
   "version": "3.6.0"
  }
 },
 "nbformat": 4,
 "nbformat_minor": 2
}
